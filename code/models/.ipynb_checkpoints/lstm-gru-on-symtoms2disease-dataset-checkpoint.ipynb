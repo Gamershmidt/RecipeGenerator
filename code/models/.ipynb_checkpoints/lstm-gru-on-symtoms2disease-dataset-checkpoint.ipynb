{
 "cells": [
  {
   "cell_type": "code",
   "execution_count": null,
   "metadata": {
    "_cell_guid": "b1076dfc-b9ad-4769-8c92-a6c4dae69d19",
    "_uuid": "8f2839f25d086af736a60e9eeb907d3b93b6e0e5",
    "execution": {
     "iopub.execute_input": "2024-09-21T13:57:02.041769Z",
     "iopub.status.busy": "2024-09-21T13:57:02.041435Z",
     "iopub.status.idle": "2024-09-21T13:57:02.976098Z",
     "shell.execute_reply": "2024-09-21T13:57:02.975037Z",
     "shell.execute_reply.started": "2024-09-21T13:57:02.041740Z"
    },
    "trusted": true
   },
   "outputs": [
    {
     "ename": "",
     "evalue": "",
     "output_type": "error",
     "traceback": [
      "\u001b[1;31mДля выполнения ячеек с \"venv (Python 3.10.12)\" требуется пакет ipykernel.\n",
      "\u001b[1;31mВыполните следующую команду, чтобы установить \"ipykernel\" в среде Python. \n",
      "\u001b[1;31mКоманда: \"/home/sofia/Документы/Symptom2Disease/venv/bin/python -m pip install ipykernel -U --force-reinstall\""
     ]
    }
   ],
   "source": [
    "# This Python 3 environment comes with many helpful analytics libraries installed\n",
    "# It is defined by the kaggle/python Docker image: https://github.com/kaggle/docker-python\n",
    "# For example, here's several helpful packages to load\n",
    "\n",
    "import numpy as np # linear algebra\n",
    "import pandas as pd # data processing, CSV file I/O (e.g. pd.read_csv)\n",
    "\n",
    "# Input data files are available in the read-only \"../input/\" directory\n",
    "# For example, running this (by clicking run or pressing Shift+Enter) will list all files under the input directory\n",
    "\n",
    "import os\n",
    "for dirname, _, filenames in os.walk('/kaggle/input'):\n",
    "    for filename in filenames:\n",
    "        print(os.path.join(dirname, filename))\n",
    "\n",
    "# You can write up to 20GB to the current directory (/kaggle/working/) that gets preserved as output when you create a version using \"Save & Run All\" \n",
    "# You can also write temporary files to /kaggle/temp/, but they won't be saved outside of the current session"
   ]
  },
  {
   "cell_type": "code",
   "execution_count": 2,
   "metadata": {
    "execution": {
     "iopub.execute_input": "2024-09-21T13:57:02.978623Z",
     "iopub.status.busy": "2024-09-21T13:57:02.978078Z",
     "iopub.status.idle": "2024-09-21T13:57:09.620002Z",
     "shell.execute_reply": "2024-09-21T13:57:09.619119Z",
     "shell.execute_reply.started": "2024-09-21T13:57:02.978590Z"
    },
    "trusted": true
   },
   "outputs": [],
   "source": [
    "#Import Necessary Libraries\n",
    "import string\n",
    "from collections import Counter\n",
    "import pandas as pd\n",
    "import numpy as np\n",
    "from nltk.corpus import stopwords\n",
    "from nltk.tokenize import word_tokenize\n",
    "\n",
    "import torch\n",
    "import torch.nn as nn\n",
    "import torchtext\n",
    "from torch.utils.data import Dataset, DataLoader\n",
    "from sklearn.model_selection import train_test_split"
   ]
  },
  {
   "cell_type": "code",
   "execution_count": 3,
   "metadata": {
    "execution": {
     "iopub.execute_input": "2024-09-21T13:57:09.626460Z",
     "iopub.status.busy": "2024-09-21T13:57:09.626130Z",
     "iopub.status.idle": "2024-09-21T13:57:09.660293Z",
     "shell.execute_reply": "2024-09-21T13:57:09.658826Z",
     "shell.execute_reply.started": "2024-09-21T13:57:09.626428Z"
    },
    "trusted": true
   },
   "outputs": [
    {
     "data": {
      "text/plain": [
       "True"
      ]
     },
     "execution_count": 3,
     "metadata": {},
     "output_type": "execute_result"
    }
   ],
   "source": [
    "torch.cuda.is_available()"
   ]
  },
  {
   "cell_type": "markdown",
   "metadata": {},
   "source": [
    "# Reading the Dataset"
   ]
  },
  {
   "cell_type": "code",
   "execution_count": 4,
   "metadata": {
    "execution": {
     "iopub.execute_input": "2024-09-21T13:57:09.661941Z",
     "iopub.status.busy": "2024-09-21T13:57:09.661614Z",
     "iopub.status.idle": "2024-09-21T13:57:09.708294Z",
     "shell.execute_reply": "2024-09-21T13:57:09.707287Z",
     "shell.execute_reply.started": "2024-09-21T13:57:09.661912Z"
    },
    "trusted": true
   },
   "outputs": [
    {
     "data": {
      "text/html": [
       "<div>\n",
       "<style scoped>\n",
       "    .dataframe tbody tr th:only-of-type {\n",
       "        vertical-align: middle;\n",
       "    }\n",
       "\n",
       "    .dataframe tbody tr th {\n",
       "        vertical-align: top;\n",
       "    }\n",
       "\n",
       "    .dataframe thead th {\n",
       "        text-align: right;\n",
       "    }\n",
       "</style>\n",
       "<table border=\"1\" class=\"dataframe\">\n",
       "  <thead>\n",
       "    <tr style=\"text-align: right;\">\n",
       "      <th></th>\n",
       "      <th>label</th>\n",
       "      <th>text</th>\n",
       "    </tr>\n",
       "  </thead>\n",
       "  <tbody>\n",
       "    <tr>\n",
       "      <th>0</th>\n",
       "      <td>Psoriasis</td>\n",
       "      <td>I have been experiencing a skin rash on my arm...</td>\n",
       "    </tr>\n",
       "    <tr>\n",
       "      <th>1</th>\n",
       "      <td>Psoriasis</td>\n",
       "      <td>My skin has been peeling, especially on my kne...</td>\n",
       "    </tr>\n",
       "    <tr>\n",
       "      <th>2</th>\n",
       "      <td>Psoriasis</td>\n",
       "      <td>I have been experiencing joint pain in my fing...</td>\n",
       "    </tr>\n",
       "    <tr>\n",
       "      <th>3</th>\n",
       "      <td>Psoriasis</td>\n",
       "      <td>There is a silver like dusting on my skin, esp...</td>\n",
       "    </tr>\n",
       "    <tr>\n",
       "      <th>4</th>\n",
       "      <td>Psoriasis</td>\n",
       "      <td>My nails have small dents or pits in them, and...</td>\n",
       "    </tr>\n",
       "    <tr>\n",
       "      <th>...</th>\n",
       "      <td>...</td>\n",
       "      <td>...</td>\n",
       "    </tr>\n",
       "    <tr>\n",
       "      <th>1195</th>\n",
       "      <td>diabetes</td>\n",
       "      <td>I'm shaking and trembling all over. I've lost ...</td>\n",
       "    </tr>\n",
       "    <tr>\n",
       "      <th>1196</th>\n",
       "      <td>diabetes</td>\n",
       "      <td>Particularly in the crevices of my skin, I hav...</td>\n",
       "    </tr>\n",
       "    <tr>\n",
       "      <th>1197</th>\n",
       "      <td>diabetes</td>\n",
       "      <td>I regularly experience these intense urges and...</td>\n",
       "    </tr>\n",
       "    <tr>\n",
       "      <th>1198</th>\n",
       "      <td>diabetes</td>\n",
       "      <td>I have trouble breathing, especially outside. ...</td>\n",
       "    </tr>\n",
       "    <tr>\n",
       "      <th>1199</th>\n",
       "      <td>diabetes</td>\n",
       "      <td>I constantly sneeze and have a dry cough. My i...</td>\n",
       "    </tr>\n",
       "  </tbody>\n",
       "</table>\n",
       "<p>1200 rows × 2 columns</p>\n",
       "</div>"
      ],
      "text/plain": [
       "          label                                               text\n",
       "0     Psoriasis  I have been experiencing a skin rash on my arm...\n",
       "1     Psoriasis  My skin has been peeling, especially on my kne...\n",
       "2     Psoriasis  I have been experiencing joint pain in my fing...\n",
       "3     Psoriasis  There is a silver like dusting on my skin, esp...\n",
       "4     Psoriasis  My nails have small dents or pits in them, and...\n",
       "...         ...                                                ...\n",
       "1195   diabetes  I'm shaking and trembling all over. I've lost ...\n",
       "1196   diabetes  Particularly in the crevices of my skin, I hav...\n",
       "1197   diabetes  I regularly experience these intense urges and...\n",
       "1198   diabetes  I have trouble breathing, especially outside. ...\n",
       "1199   diabetes  I constantly sneeze and have a dry cough. My i...\n",
       "\n",
       "[1200 rows x 2 columns]"
      ]
     },
     "execution_count": 4,
     "metadata": {},
     "output_type": "execute_result"
    }
   ],
   "source": [
    "\n",
    "df = pd.read_csv(\"/kaggle/input/symptom2disease/Symptom2Disease.csv\")\n",
    "df.drop(\"Unnamed: 0\",inplace=True,axis=1)\n",
    "df"
   ]
  },
  {
   "cell_type": "markdown",
   "metadata": {},
   "source": [
    "# Preprocessing steps:stopwords removal,datacleaning etc"
   ]
  },
  {
   "cell_type": "code",
   "execution_count": 5,
   "metadata": {
    "execution": {
     "iopub.execute_input": "2024-09-21T13:57:09.709859Z",
     "iopub.status.busy": "2024-09-21T13:57:09.709513Z",
     "iopub.status.idle": "2024-09-21T13:57:09.719679Z",
     "shell.execute_reply": "2024-09-21T13:57:09.718573Z",
     "shell.execute_reply.started": "2024-09-21T13:57:09.709821Z"
    },
    "trusted": true
   },
   "outputs": [],
   "source": [
    "# set of English stopwords we will remove from our text data\n",
    "stop_words = set(stopwords.words('english'))"
   ]
  },
  {
   "cell_type": "code",
   "execution_count": 6,
   "metadata": {
    "execution": {
     "iopub.execute_input": "2024-09-21T13:57:09.721822Z",
     "iopub.status.busy": "2024-09-21T13:57:09.721220Z",
     "iopub.status.idle": "2024-09-21T13:57:09.728244Z",
     "shell.execute_reply": "2024-09-21T13:57:09.727364Z",
     "shell.execute_reply.started": "2024-09-21T13:57:09.721789Z"
    },
    "trusted": true
   },
   "outputs": [],
   "source": [
    "def clean_text(sent):\n",
    "    #remove punctuations\n",
    "    sent = sent.translate(str.maketrans('','',string.punctuation)).strip()\n",
    "    \n",
    "    #remove stopwords\n",
    "    stop_words = set(stopwords.words('english'))\n",
    "    words = word_tokenize(sent)\n",
    "    words = [word for word in words if word not in stop_words]\n",
    "    \n",
    "    return \" \".join(words).lower()"
   ]
  },
  {
   "cell_type": "code",
   "execution_count": 7,
   "metadata": {
    "execution": {
     "iopub.execute_input": "2024-09-21T13:57:09.730092Z",
     "iopub.status.busy": "2024-09-21T13:57:09.729552Z",
     "iopub.status.idle": "2024-09-21T13:57:10.374873Z",
     "shell.execute_reply": "2024-09-21T13:57:10.373922Z",
     "shell.execute_reply.started": "2024-09-21T13:57:09.730061Z"
    },
    "trusted": true
   },
   "outputs": [],
   "source": [
    "# clean text rows in dataframe\n",
    "df[\"text\"] = df[\"text\"].apply(clean_text)"
   ]
  },
  {
   "cell_type": "code",
   "execution_count": 8,
   "metadata": {
    "execution": {
     "iopub.execute_input": "2024-09-21T13:57:10.376791Z",
     "iopub.status.busy": "2024-09-21T13:57:10.376433Z",
     "iopub.status.idle": "2024-09-21T13:57:10.385229Z",
     "shell.execute_reply": "2024-09-21T13:57:10.384151Z",
     "shell.execute_reply.started": "2024-09-21T13:57:10.376760Z"
    },
    "trusted": true
   },
   "outputs": [],
   "source": [
    "# get list of diseases in our dataset\n",
    "diseases = df[\"label\"].unique()\n",
    "\n",
    "# helper dictionaries to convert diseases to index and vice versa\n",
    "idx2dis = {k:v for k,v in enumerate(diseases)}\n",
    "dis2idx = {v:k for k,v in idx2dis.items()}"
   ]
  },
  {
   "cell_type": "code",
   "execution_count": 9,
   "metadata": {
    "execution": {
     "iopub.execute_input": "2024-09-21T13:57:10.390056Z",
     "iopub.status.busy": "2024-09-21T13:57:10.389716Z",
     "iopub.status.idle": "2024-09-21T13:57:10.400444Z",
     "shell.execute_reply": "2024-09-21T13:57:10.399469Z",
     "shell.execute_reply.started": "2024-09-21T13:57:10.390025Z"
    },
    "trusted": true
   },
   "outputs": [],
   "source": [
    "# convert disease name to index (label encoding)\n",
    "df[\"label\"] = df[\"label\"].apply(lambda x: dis2idx[x])"
   ]
  },
  {
   "cell_type": "code",
   "execution_count": 10,
   "metadata": {
    "execution": {
     "iopub.execute_input": "2024-09-21T13:57:10.401842Z",
     "iopub.status.busy": "2024-09-21T13:57:10.401530Z",
     "iopub.status.idle": "2024-09-21T13:57:10.415097Z",
     "shell.execute_reply": "2024-09-21T13:57:10.414133Z",
     "shell.execute_reply.started": "2024-09-21T13:57:10.401814Z"
    },
    "trusted": true
   },
   "outputs": [],
   "source": [
    "# Split the data into train,test set\n",
    "X_train, X_test, y_train, y_test = train_test_split(df[\"text\"], df[\"label\"], test_size=0.2, random_state=42)"
   ]
  },
  {
   "cell_type": "code",
   "execution_count": 11,
   "metadata": {
    "execution": {
     "iopub.execute_input": "2024-09-21T13:57:10.416721Z",
     "iopub.status.busy": "2024-09-21T13:57:10.416381Z",
     "iopub.status.idle": "2024-09-21T13:57:10.422000Z",
     "shell.execute_reply": "2024-09-21T13:57:10.420966Z",
     "shell.execute_reply.started": "2024-09-21T13:57:10.416692Z"
    },
    "trusted": true
   },
   "outputs": [],
   "source": [
    "# pytorch dataset object use index to return item, so need to reset non-continuoues index of divided dataset\n",
    "X_train.reset_index(drop=True, inplace=True)\n",
    "X_test.reset_index(drop=True, inplace=True)"
   ]
  },
  {
   "cell_type": "code",
   "execution_count": 12,
   "metadata": {
    "execution": {
     "iopub.execute_input": "2024-09-21T13:57:10.424109Z",
     "iopub.status.busy": "2024-09-21T13:57:10.423734Z",
     "iopub.status.idle": "2024-09-21T13:57:10.441419Z",
     "shell.execute_reply": "2024-09-21T13:57:10.440336Z",
     "shell.execute_reply.started": "2024-09-21T13:57:10.424067Z"
    },
    "trusted": true
   },
   "outputs": [
    {
     "data": {
      "text/plain": [
       "31"
      ]
     },
     "execution_count": 12,
     "metadata": {},
     "output_type": "execute_result"
    }
   ],
   "source": [
    "# max number of words in symptoms descriptions (cleaned version)\n",
    "max_words = X_train.apply(lambda x:x.split()).apply(len).max()\n",
    "max_words"
   ]
  },
  {
   "cell_type": "code",
   "execution_count": 13,
   "metadata": {
    "execution": {
     "iopub.execute_input": "2024-09-21T13:57:10.443297Z",
     "iopub.status.busy": "2024-09-21T13:57:10.442835Z",
     "iopub.status.idle": "2024-09-21T13:57:10.542842Z",
     "shell.execute_reply": "2024-09-21T13:57:10.541806Z",
     "shell.execute_reply.started": "2024-09-21T13:57:10.443236Z"
    },
    "trusted": true
   },
   "outputs": [],
   "source": [
    "# create vocabulart using torchtext vocab class\n",
    "counter = Counter()\n",
    "for text in X_train:\n",
    "    counter.update(text.split())\n",
    "\n",
    "vocab = torchtext.vocab.vocab(counter,specials=['<unk>', '<pad>'])"
   ]
  },
  {
   "cell_type": "code",
   "execution_count": 14,
   "metadata": {
    "execution": {
     "iopub.execute_input": "2024-09-21T13:57:10.544533Z",
     "iopub.status.busy": "2024-09-21T13:57:10.544168Z",
     "iopub.status.idle": "2024-09-21T13:57:10.553793Z",
     "shell.execute_reply": "2024-09-21T13:57:10.552805Z",
     "shell.execute_reply.started": "2024-09-21T13:57:10.544488Z"
    },
    "trusted": true
   },
   "outputs": [],
   "source": [
    "# set default index as unknown token\n",
    "vocab.set_default_index(vocab['<unk>'])"
   ]
  },
  {
   "cell_type": "code",
   "execution_count": 15,
   "metadata": {
    "execution": {
     "iopub.execute_input": "2024-09-21T13:57:10.555512Z",
     "iopub.status.busy": "2024-09-21T13:57:10.555156Z",
     "iopub.status.idle": "2024-09-21T13:57:10.564266Z",
     "shell.execute_reply": "2024-09-21T13:57:10.563173Z",
     "shell.execute_reply.started": "2024-09-21T13:57:10.555479Z"
    },
    "trusted": true
   },
   "outputs": [],
   "source": [
    "# Create a PyTorch dataset`\n",
    "class DiseaseDataset(torch.utils.data.Dataset):\n",
    "    def __init__(self, symptoms,labels):\n",
    "        self.symptoms = symptoms\n",
    "        self.labels= torch.tensor(labels.to_numpy())\n",
    "    def __len__(self):\n",
    "        return len(self.labels)\n",
    "\n",
    "    def __getitem__(self, idx):\n",
    "        text = self.symptoms[idx]\n",
    "        label = self.labels[idx]\n",
    "\n",
    "        # Convert the text to a sequence of word indices\n",
    "        text_indices = [vocab[word] for word in text.split()]\n",
    "        \n",
    "        # padding for same length sequence\n",
    "        if len(text_indices)<max_words:\n",
    "            text_indices = text_indices + [1]*(max_words - len(text_indices))\n",
    "        \n",
    "        return torch.tensor(text_indices), label"
   ]
  },
  {
   "cell_type": "code",
   "execution_count": 16,
   "metadata": {
    "execution": {
     "iopub.execute_input": "2024-09-21T13:57:10.565795Z",
     "iopub.status.busy": "2024-09-21T13:57:10.565462Z",
     "iopub.status.idle": "2024-09-21T13:57:10.597048Z",
     "shell.execute_reply": "2024-09-21T13:57:10.596252Z",
     "shell.execute_reply.started": "2024-09-21T13:57:10.565763Z"
    },
    "trusted": true
   },
   "outputs": [],
   "source": [
    "# instantiate dataset objects\n",
    "train_dataset = DiseaseDataset(X_train, y_train)\n",
    "val_dataset = DiseaseDataset(X_test, y_test)"
   ]
  },
  {
   "cell_type": "code",
   "execution_count": 17,
   "metadata": {
    "execution": {
     "iopub.execute_input": "2024-09-21T13:57:10.598927Z",
     "iopub.status.busy": "2024-09-21T13:57:10.598142Z",
     "iopub.status.idle": "2024-09-21T13:57:10.605908Z",
     "shell.execute_reply": "2024-09-21T13:57:10.604859Z",
     "shell.execute_reply.started": "2024-09-21T13:57:10.598893Z"
    },
    "trusted": true
   },
   "outputs": [],
   "source": [
    "# choose batch size, will start from smaller values as we got smaller dataset\n",
    "batch_size = 8\n",
    "\n",
    "# Create data loaders\n",
    "train_loader = DataLoader(train_dataset, batch_size=batch_size, shuffle=True)\n",
    "val_loader = DataLoader(val_dataset, batch_size=batch_size)"
   ]
  },
  {
   "cell_type": "code",
   "execution_count": 18,
   "metadata": {
    "execution": {
     "iopub.execute_input": "2024-09-21T13:57:10.609537Z",
     "iopub.status.busy": "2024-09-21T13:57:10.606925Z",
     "iopub.status.idle": "2024-09-21T13:57:10.620108Z",
     "shell.execute_reply": "2024-09-21T13:57:10.619280Z",
     "shell.execute_reply.started": "2024-09-21T13:57:10.609502Z"
    },
    "trusted": true
   },
   "outputs": [],
   "source": [
    "# Define the RNN model\n",
    "class RNNModel(torch.nn.Module):\n",
    "    def __init__(self, vocab_size, embedding_dim, hidden_dim,num_classes,drop_prob,num_layers=1,bidir=False,seq=\"lstm\"):\n",
    "        super(RNNModel, self).__init__()\n",
    "        self.seq = seq\n",
    "        self.bidir_f = 2 if bidir else 0\n",
    "        self.embedding = torch.nn.Embedding(vocab_size, embedding_dim)\n",
    "        if seq==\"lstm\":\n",
    "            self.rnn = torch.nn.LSTM(embedding_dim, hidden_dim,\n",
    "                                     num_layers=num_layers,\n",
    "                                     batch_first=True,\n",
    "                                     bidirectional=bidir)\n",
    "        else:\n",
    "            self.rnn = torch.nn.GRU(embedding_dim, hidden_dim,\n",
    "                                 num_layers=num_layers,\n",
    "                                 batch_first=True,\n",
    "                                bidirectional=bidir)\n",
    "        \n",
    "        self.dropout = torch.nn.Dropout(drop_prob) #dropout layer\n",
    "        self.fc = torch.nn.Linear(hidden_dim*self.bidir_f, num_classes) # fully connected layer\n",
    "\n",
    "    def forward(self, text_indices):\n",
    "        # Embed the text indices\n",
    "        embedded_text = self.embedding(text_indices)\n",
    "#         print(\"EMB SHAPE: \",embedded_text.shape)\n",
    "\n",
    "        # Pass the embedded text through the RNN\n",
    "        rnn_output,hidden_states = self.rnn(embedded_text)\n",
    "        # Take the last output of the RNN\n",
    "        last_rnn_output = rnn_output[:, -1, :]\n",
    "        x = self.dropout(last_rnn_output)\n",
    "        # Pass the last output of the RNN through the fully connected layer\n",
    "        x = self.fc(x)\n",
    "\n",
    "        # Return the final output\n",
    "        return x"
   ]
  },
  {
   "cell_type": "code",
   "execution_count": 19,
   "metadata": {
    "execution": {
     "iopub.execute_input": "2024-09-21T13:57:10.621772Z",
     "iopub.status.busy": "2024-09-21T13:57:10.621371Z",
     "iopub.status.idle": "2024-09-21T13:57:10.636282Z",
     "shell.execute_reply": "2024-09-21T13:57:10.635320Z",
     "shell.execute_reply.started": "2024-09-21T13:57:10.621744Z"
    },
    "trusted": true
   },
   "outputs": [],
   "source": [
    "def train(model,num_epochs=10):\n",
    "    criterion = nn.CrossEntropyLoss()\n",
    "    optimizer = torch.optim.Adam(model.parameters(), lr=0.001)\n",
    "    \n",
    "    #choose device for training\n",
    "    device = \"cuda\" if torch.cuda.is_available()  else \"cpu\"\n",
    "    model = model.cuda()\n",
    "    model = model.to(device)\n",
    "    print(\"IS CUDA: \",next(model.parameters()).is_cuda)\n",
    "    \n",
    "    # Training loop\n",
    "    for epoch in range(num_epochs):\n",
    "        model.train()\n",
    "        for data in train_loader:\n",
    "            inputs,labels = data \n",
    "            inputs,labels = inputs.to(device), labels.to(device)\n",
    "            optimizer.zero_grad()\n",
    "            outputs = model(inputs)\n",
    "            loss = criterion(outputs, labels)\n",
    "            acc = (labels == outputs.argmax(dim=-1)).float().mean().item()\n",
    "            loss.backward()\n",
    "            optimizer.step()\n",
    "\n",
    "        # Validation\n",
    "        model.eval()\n",
    "        with torch.no_grad():\n",
    "            val_loss = 0.0\n",
    "            correct = 0\n",
    "            total = 0\n",
    "            for inputs, labels in val_loader:\n",
    "                inputs,labels = inputs.to(device), labels.to(device)\n",
    "                outputs = model(inputs)\n",
    "                loss = criterion(outputs, labels)\n",
    "                val_loss += loss.item()\n",
    "                predicted = outputs.argmax(-1)\n",
    "                total += labels.size(0)\n",
    "                correct += (predicted == labels).sum().item()\n",
    "        accuracy = (labels == outputs.argmax(dim=-1)).float().mean().item()\n",
    "        print(f'Epoch [{epoch + 1}/{num_epochs}], Loss: {val_loss}, Train Accuracy: {acc:.2f}  Val Accuracy: {accuracy:.2f}')"
   ]
  },
  {
   "cell_type": "code",
   "execution_count": 20,
   "metadata": {
    "execution": {
     "iopub.execute_input": "2024-09-21T13:57:10.638102Z",
     "iopub.status.busy": "2024-09-21T13:57:10.637753Z",
     "iopub.status.idle": "2024-09-21T13:57:10.649185Z",
     "shell.execute_reply": "2024-09-21T13:57:10.648214Z",
     "shell.execute_reply.started": "2024-09-21T13:57:10.638073Z"
    },
    "trusted": true
   },
   "outputs": [],
   "source": [
    "num_classes = len(np.unique(y_train))\n",
    "vocab_size = len(vocab)\n",
    "emb_dim = 256\n",
    "hidden_dim = 128\n",
    "drop_prob = 0.4"
   ]
  },
  {
   "cell_type": "code",
   "execution_count": 21,
   "metadata": {
    "execution": {
     "iopub.execute_input": "2024-09-21T13:57:10.651092Z",
     "iopub.status.busy": "2024-09-21T13:57:10.650763Z",
     "iopub.status.idle": "2024-09-21T13:57:10.689396Z",
     "shell.execute_reply": "2024-09-21T13:57:10.688553Z",
     "shell.execute_reply.started": "2024-09-21T13:57:10.651065Z"
    },
    "trusted": true
   },
   "outputs": [],
   "source": [
    "model_lstm = RNNModel(vocab_size,emb_dim,hidden_dim,num_classes,drop_prob,num_layers=3,bidir=True, seq=\"lstm\")"
   ]
  },
  {
   "cell_type": "code",
   "execution_count": null,
   "metadata": {
    "trusted": true
   },
   "outputs": [],
   "source": []
  },
  {
   "cell_type": "code",
   "execution_count": 22,
   "metadata": {
    "execution": {
     "iopub.execute_input": "2024-09-21T13:57:10.690726Z",
     "iopub.status.busy": "2024-09-21T13:57:10.690416Z",
     "iopub.status.idle": "2024-09-21T13:57:35.473493Z",
     "shell.execute_reply": "2024-09-21T13:57:35.472553Z",
     "shell.execute_reply.started": "2024-09-21T13:57:10.690694Z"
    },
    "trusted": true
   },
   "outputs": [
    {
     "name": "stdout",
     "output_type": "stream",
     "text": [
      "IS CUDA:  True\n",
      "Epoch [1/35], Loss: 92.01725339889526, Train Accuracy: 0.00  Val Accuracy: 0.00\n",
      "Epoch [2/35], Loss: 78.9551649093628, Train Accuracy: 0.00  Val Accuracy: 0.00\n",
      "Epoch [3/35], Loss: 74.6918408870697, Train Accuracy: 0.12  Val Accuracy: 0.12\n",
      "Epoch [4/35], Loss: 61.21231651306152, Train Accuracy: 0.25  Val Accuracy: 0.25\n",
      "Epoch [5/35], Loss: 50.374439120292664, Train Accuracy: 0.38  Val Accuracy: 0.62\n",
      "Epoch [6/35], Loss: 32.70776554942131, Train Accuracy: 0.75  Val Accuracy: 0.88\n",
      "Epoch [7/35], Loss: 29.302746415138245, Train Accuracy: 0.88  Val Accuracy: 0.88\n",
      "Epoch [8/35], Loss: 28.719481825828552, Train Accuracy: 0.88  Val Accuracy: 0.88\n",
      "Epoch [9/35], Loss: 26.834640324115753, Train Accuracy: 1.00  Val Accuracy: 1.00\n",
      "Epoch [10/35], Loss: 23.35372630134225, Train Accuracy: 0.88  Val Accuracy: 0.88\n",
      "Epoch [11/35], Loss: 25.242680657655, Train Accuracy: 1.00  Val Accuracy: 0.88\n",
      "Epoch [12/35], Loss: 23.69400708936155, Train Accuracy: 1.00  Val Accuracy: 0.88\n",
      "Epoch [13/35], Loss: 34.005266319960356, Train Accuracy: 0.75  Val Accuracy: 0.62\n",
      "Epoch [14/35], Loss: 29.018865330144763, Train Accuracy: 0.88  Val Accuracy: 0.88\n",
      "Epoch [15/35], Loss: 27.532732857391238, Train Accuracy: 1.00  Val Accuracy: 0.88\n",
      "Epoch [16/35], Loss: 29.69254532456398, Train Accuracy: 1.00  Val Accuracy: 0.88\n",
      "Epoch [17/35], Loss: 28.506075870245695, Train Accuracy: 1.00  Val Accuracy: 0.88\n",
      "Epoch [18/35], Loss: 29.304823752958328, Train Accuracy: 1.00  Val Accuracy: 0.88\n",
      "Epoch [19/35], Loss: 29.40907395351678, Train Accuracy: 1.00  Val Accuracy: 0.88\n",
      "Epoch [20/35], Loss: 28.73784333257936, Train Accuracy: 1.00  Val Accuracy: 0.88\n",
      "Epoch [21/35], Loss: 29.555528026307, Train Accuracy: 1.00  Val Accuracy: 0.88\n",
      "Epoch [22/35], Loss: 30.73485639737919, Train Accuracy: 1.00  Val Accuracy: 0.88\n",
      "Epoch [23/35], Loss: 31.014089353382587, Train Accuracy: 1.00  Val Accuracy: 0.88\n",
      "Epoch [24/35], Loss: 31.393701104447246, Train Accuracy: 1.00  Val Accuracy: 0.88\n",
      "Epoch [25/35], Loss: 31.366378720616922, Train Accuracy: 1.00  Val Accuracy: 0.88\n",
      "Epoch [26/35], Loss: 32.21929696551524, Train Accuracy: 1.00  Val Accuracy: 0.88\n",
      "Epoch [27/35], Loss: 32.04369915497955, Train Accuracy: 1.00  Val Accuracy: 0.88\n",
      "Epoch [28/35], Loss: 32.174819232546724, Train Accuracy: 1.00  Val Accuracy: 0.88\n",
      "Epoch [29/35], Loss: 32.96258625504561, Train Accuracy: 1.00  Val Accuracy: 0.88\n",
      "Epoch [30/35], Loss: 32.66090060828719, Train Accuracy: 1.00  Val Accuracy: 0.88\n",
      "Epoch [31/35], Loss: 33.148885876638815, Train Accuracy: 1.00  Val Accuracy: 0.88\n",
      "Epoch [32/35], Loss: 33.842523680534214, Train Accuracy: 1.00  Val Accuracy: 0.88\n",
      "Epoch [33/35], Loss: 34.19772488612216, Train Accuracy: 1.00  Val Accuracy: 0.88\n",
      "Epoch [34/35], Loss: 33.713942315313034, Train Accuracy: 1.00  Val Accuracy: 0.88\n",
      "Epoch [35/35], Loss: 34.15509883768391, Train Accuracy: 1.00  Val Accuracy: 0.88\n"
     ]
    }
   ],
   "source": [
    "train(model_lstm,35)"
   ]
  },
  {
   "cell_type": "code",
   "execution_count": 23,
   "metadata": {
    "execution": {
     "iopub.execute_input": "2024-09-21T13:57:35.475409Z",
     "iopub.status.busy": "2024-09-21T13:57:35.474787Z",
     "iopub.status.idle": "2024-09-21T13:57:35.489703Z",
     "shell.execute_reply": "2024-09-21T13:57:35.488962Z",
     "shell.execute_reply.started": "2024-09-21T13:57:35.475372Z"
    },
    "trusted": true
   },
   "outputs": [],
   "source": [
    "model_gru = RNNModel(vocab_size,emb_dim,hidden_dim,num_classes,drop_prob,num_layers=1,bidir=True,seq=\"gru\")"
   ]
  },
  {
   "cell_type": "code",
   "execution_count": 24,
   "metadata": {
    "execution": {
     "iopub.execute_input": "2024-09-21T13:57:35.491009Z",
     "iopub.status.busy": "2024-09-21T13:57:35.490714Z",
     "iopub.status.idle": "2024-09-21T13:57:43.131894Z",
     "shell.execute_reply": "2024-09-21T13:57:43.131018Z",
     "shell.execute_reply.started": "2024-09-21T13:57:35.490979Z"
    },
    "trusted": true
   },
   "outputs": [
    {
     "name": "stdout",
     "output_type": "stream",
     "text": [
      "IS CUDA:  True\n",
      "Epoch [1/20], Loss: 88.82546520233154, Train Accuracy: 0.00  Val Accuracy: 0.25\n",
      "Epoch [2/20], Loss: 61.91657745838165, Train Accuracy: 0.38  Val Accuracy: 0.62\n",
      "Epoch [3/20], Loss: 36.18146961927414, Train Accuracy: 0.62  Val Accuracy: 0.88\n",
      "Epoch [4/20], Loss: 22.785705775022507, Train Accuracy: 0.88  Val Accuracy: 1.00\n",
      "Epoch [5/20], Loss: 16.199264124035835, Train Accuracy: 1.00  Val Accuracy: 1.00\n",
      "Epoch [6/20], Loss: 12.187511496245861, Train Accuracy: 1.00  Val Accuracy: 1.00\n",
      "Epoch [7/20], Loss: 11.177432298660278, Train Accuracy: 1.00  Val Accuracy: 1.00\n",
      "Epoch [8/20], Loss: 9.949819948524237, Train Accuracy: 1.00  Val Accuracy: 1.00\n",
      "Epoch [9/20], Loss: 8.938183657824993, Train Accuracy: 1.00  Val Accuracy: 1.00\n",
      "Epoch [10/20], Loss: 8.670395903289318, Train Accuracy: 1.00  Val Accuracy: 1.00\n",
      "Epoch [11/20], Loss: 8.942874561995268, Train Accuracy: 1.00  Val Accuracy: 1.00\n",
      "Epoch [12/20], Loss: 8.719596456736326, Train Accuracy: 1.00  Val Accuracy: 1.00\n",
      "Epoch [13/20], Loss: 8.624773809686303, Train Accuracy: 1.00  Val Accuracy: 1.00\n",
      "Epoch [14/20], Loss: 8.123713795095682, Train Accuracy: 1.00  Val Accuracy: 1.00\n",
      "Epoch [15/20], Loss: 8.347861812449992, Train Accuracy: 1.00  Val Accuracy: 1.00\n",
      "Epoch [16/20], Loss: 8.221004098188132, Train Accuracy: 1.00  Val Accuracy: 1.00\n",
      "Epoch [17/20], Loss: 8.612927931826562, Train Accuracy: 1.00  Val Accuracy: 1.00\n",
      "Epoch [18/20], Loss: 8.383127857465297, Train Accuracy: 1.00  Val Accuracy: 1.00\n",
      "Epoch [19/20], Loss: 8.737326659727842, Train Accuracy: 1.00  Val Accuracy: 1.00\n",
      "Epoch [20/20], Loss: 8.898844430223107, Train Accuracy: 1.00  Val Accuracy: 1.00\n"
     ]
    }
   ],
   "source": [
    "train(model_gru,20)"
   ]
  },
  {
   "cell_type": "code",
   "execution_count": 25,
   "metadata": {
    "execution": {
     "iopub.execute_input": "2024-09-21T13:57:43.133470Z",
     "iopub.status.busy": "2024-09-21T13:57:43.133104Z",
     "iopub.status.idle": "2024-09-21T13:57:43.139754Z",
     "shell.execute_reply": "2024-09-21T13:57:43.138758Z",
     "shell.execute_reply.started": "2024-09-21T13:57:43.133438Z"
    },
    "trusted": true
   },
   "outputs": [],
   "source": [
    "def make_pred(model,text):\n",
    "    text = clean_text(text)\n",
    "    # Convert the text to a sequence of word indices\n",
    "    text_indices = [vocab[word] for word in text.split()]\n",
    "        \n",
    "    # padding for same length sequence\n",
    "    if len(text_indices)<max_words:\n",
    "        text_indices = text_indices + [1]*(max_words - len(text_indices))\n",
    "    text_indices = torch.tensor(text_indices).cuda()\n",
    "    pred = model(text_indices.unsqueeze(0))\n",
    "\n",
    "    print(idx2dis[pred.argmax(1).item()])"
   ]
  },
  {
   "cell_type": "code",
   "execution_count": 29,
   "metadata": {
    "execution": {
     "iopub.execute_input": "2024-09-21T13:59:07.449316Z",
     "iopub.status.busy": "2024-09-21T13:59:07.448415Z",
     "iopub.status.idle": "2024-09-21T13:59:07.457263Z",
     "shell.execute_reply": "2024-09-21T13:59:07.456345Z",
     "shell.execute_reply.started": "2024-09-21T13:59:07.449282Z"
    },
    "trusted": true
   },
   "outputs": [
    {
     "name": "stdout",
     "output_type": "stream",
     "text": [
      "Varicose Veins\n"
     ]
    }
   ],
   "source": [
    "symp2 = \"I've been itching a lot\"\n",
    "\n",
    "make_pred(model_lstm, symp2)"
   ]
  },
  {
   "cell_type": "code",
   "execution_count": 31,
   "metadata": {
    "execution": {
     "iopub.execute_input": "2024-09-21T14:26:54.536741Z",
     "iopub.status.busy": "2024-09-21T14:26:54.535909Z",
     "iopub.status.idle": "2024-09-21T14:26:54.555910Z",
     "shell.execute_reply": "2024-09-21T14:26:54.555169Z",
     "shell.execute_reply.started": "2024-09-21T14:26:54.536706Z"
    },
    "trusted": true
   },
   "outputs": [],
   "source": [
    "torch.save(model_lstm.state_dict(), \"/kaggle/working/model_lstm.h5\")"
   ]
  },
  {
   "cell_type": "code",
   "execution_count": 35,
   "metadata": {
    "execution": {
     "iopub.execute_input": "2024-09-21T14:30:51.701890Z",
     "iopub.status.busy": "2024-09-21T14:30:51.701204Z",
     "iopub.status.idle": "2024-09-21T14:30:51.735615Z",
     "shell.execute_reply": "2024-09-21T14:30:51.734741Z",
     "shell.execute_reply.started": "2024-09-21T14:30:51.701857Z"
    },
    "trusted": true
   },
   "outputs": [
    {
     "data": {
      "text/plain": [
       "<All keys matched successfully>"
      ]
     },
     "execution_count": 35,
     "metadata": {},
     "output_type": "execute_result"
    }
   ],
   "source": [
    "mdl = RNNModel(vocab_size,emb_dim,hidden_dim,num_classes,drop_prob,num_layers=3,bidir=True, seq=\"lstm\")\n",
    "mdl.load_state_dict(torch.load(\"/kaggle/working/model_lstm.h5\", weights_only=True))"
   ]
  },
  {
   "cell_type": "code",
   "execution_count": 40,
   "metadata": {
    "execution": {
     "iopub.execute_input": "2024-09-21T14:33:22.972491Z",
     "iopub.status.busy": "2024-09-21T14:33:22.971783Z",
     "iopub.status.idle": "2024-09-21T14:33:22.982140Z",
     "shell.execute_reply": "2024-09-21T14:33:22.981187Z",
     "shell.execute_reply.started": "2024-09-21T14:33:22.972459Z"
    },
    "trusted": true
   },
   "outputs": [
    {
     "name": "stdout",
     "output_type": "stream",
     "text": [
      "peptic ulcer disease\n"
     ]
    }
   ],
   "source": [
    "make_pred(mdl.cuda(), \"my stomach ache\")"
   ]
  },
  {
   "cell_type": "code",
   "execution_count": null,
   "metadata": {},
   "outputs": [],
   "source": []
  }
 ],
 "metadata": {
  "kaggle": {
   "accelerator": "gpu",
   "dataSources": [
    {
     "datasetId": 3087304,
     "sourceId": 5312008,
     "sourceType": "datasetVersion"
    }
   ],
   "dockerImageVersionId": 30699,
   "isGpuEnabled": true,
   "isInternetEnabled": true,
   "language": "python",
   "sourceType": "notebook"
  },
  "kernelspec": {
   "display_name": "Python 3",
   "language": "python",
   "name": "python3"
  },
  "language_info": {
   "codemirror_mode": {
    "name": "ipython",
    "version": 3
   },
   "file_extension": ".py",
   "mimetype": "text/x-python",
   "name": "python",
   "nbconvert_exporter": "python",
   "pygments_lexer": "ipython3",
   "version": "3.10.12"
  }
 },
 "nbformat": 4,
 "nbformat_minor": 4
}
